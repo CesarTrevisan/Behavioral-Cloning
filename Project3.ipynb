{
 "cells": [
  {
   "cell_type": "code",
   "execution_count": 1,
   "metadata": {},
   "outputs": [
    {
     "name": "stderr",
     "output_type": "stream",
     "text": [
      "Using TensorFlow backend.\n"
     ]
    }
   ],
   "source": [
    "from keras.models import Sequential\n",
    "from keras.layers import Flatten, Dense, Lambda, Cropping2D, Dropout\n",
    "from keras.layers.convolutional import Convolution2D\n",
    "from keras.layers.pooling import MaxPooling2D"
   ]
  },
  {
   "cell_type": "code",
   "execution_count": 2,
   "metadata": {
    "collapsed": true
   },
   "outputs": [],
   "source": [
    "import csv\n",
    "from PIL import Image\n",
    "import numpy as np\n",
    "import os"
   ]
  },
  {
   "cell_type": "code",
   "execution_count": 3,
   "metadata": {
    "collapsed": true
   },
   "outputs": [],
   "source": [
    "\n",
    "lines = []\n",
    "with open('data/driving_log.csv') as csvfile:\n",
    "    reader = csv.reader(csvfile)\n",
    "    for line in reader:\n",
    "        lines.append(line)"
   ]
  },
  {
   "cell_type": "code",
   "execution_count": 4,
   "metadata": {},
   "outputs": [
    {
     "data": {
      "text/plain": [
       "8037"
      ]
     },
     "execution_count": 4,
     "metadata": {},
     "output_type": "execute_result"
    }
   ],
   "source": [
    "len(lines)"
   ]
  },
  {
   "cell_type": "code",
   "execution_count": 5,
   "metadata": {
    "collapsed": true
   },
   "outputs": [],
   "source": [
    "with open('data/driving_log_track1_right.csv') as csvfile:\n",
    "    reader = csv.reader(csvfile)\n",
    "    for line in reader:\n",
    "        lines.append(line)"
   ]
  },
  {
   "cell_type": "code",
   "execution_count": 6,
   "metadata": {},
   "outputs": [
    {
     "data": {
      "text/plain": [
       "9920"
      ]
     },
     "execution_count": 6,
     "metadata": {},
     "output_type": "execute_result"
    }
   ],
   "source": [
    "len(lines)"
   ]
  },
  {
   "cell_type": "code",
   "execution_count": 7,
   "metadata": {
    "collapsed": true
   },
   "outputs": [],
   "source": [
    "with open('data/driving_log_track1_wrong.csv') as csvfile:\n",
    "    reader = csv.reader(csvfile)\n",
    "    for line in reader:\n",
    "        lines.append(line)"
   ]
  },
  {
   "cell_type": "code",
   "execution_count": 8,
   "metadata": {},
   "outputs": [
    {
     "data": {
      "text/plain": [
       "12452"
      ]
     },
     "execution_count": 8,
     "metadata": {},
     "output_type": "execute_result"
    }
   ],
   "source": [
    "len(lines)"
   ]
  },
  {
   "cell_type": "code",
   "execution_count": 9,
   "metadata": {
    "collapsed": true
   },
   "outputs": [],
   "source": [
    "length = len(lines)\n",
    "#length = 100\n",
    "\n",
    "lines=lines[1:length+1]"
   ]
  },
  {
   "cell_type": "code",
   "execution_count": 10,
   "metadata": {},
   "outputs": [
    {
     "data": {
      "text/plain": [
       "12451"
      ]
     },
     "execution_count": 10,
     "metadata": {},
     "output_type": "execute_result"
    }
   ],
   "source": [
    "len(lines)"
   ]
  },
  {
   "cell_type": "code",
   "execution_count": 11,
   "metadata": {},
   "outputs": [
    {
     "name": "stdout",
     "output_type": "stream",
     "text": [
      "Epoch 1/10\n",
      "59760/59760 [==============================] - 465s - loss: 0.0329 - val_loss: 0.0224\n",
      "Epoch 2/10\n",
      "59760/59760 [==============================] - 293s - loss: 0.0215 - val_loss: 0.0207\n",
      "Epoch 3/10\n",
      "59760/59760 [==============================] - 293s - loss: 0.0198 - val_loss: 0.0198\n",
      "Epoch 4/10\n",
      "59760/59760 [==============================] - 293s - loss: 0.0192 - val_loss: 0.0190\n",
      "Epoch 5/10\n",
      "59760/59760 [==============================] - 292s - loss: 0.0187 - val_loss: 0.0182\n",
      "Epoch 6/10\n",
      "59760/59760 [==============================] - 292s - loss: 0.0182 - val_loss: 0.0180\n",
      "Epoch 7/10\n",
      "59760/59760 [==============================] - 292s - loss: 0.0177 - val_loss: 0.0175\n",
      "Epoch 8/10\n",
      "59760/59760 [==============================] - 293s - loss: 0.0174 - val_loss: 0.0178\n",
      "Epoch 9/10\n",
      "59760/59760 [==============================] - 293s - loss: 0.0172 - val_loss: 0.0170\n",
      "Epoch 10/10\n",
      "59760/59760 [==============================] - 293s - loss: 0.0168 - val_loss: 0.0167\n",
      "dict_keys(['loss', 'val_loss'])\n"
     ]
    },
    {
     "data": {
      "image/png": "[encoded data removed]",
      "text/plain": [
       "<matplotlib.figure.Figure at 0x7f29538a89b0>"
      ]
     },
     "metadata": {},
     "output_type": "display_data"
    }
   ],
   "source": [
    "from sklearn.model_selection import train_test_split\n",
    "train_samples, validation_samples = train_test_split(lines, test_size=0.2)\n",
    "\n",
    "\n",
    "import sklearn\n",
    "\n",
    "def generator(lines, batch_size=32):\n",
    "    num_samples = len(lines)\n",
    "    while 1: # Loop forever so the generator never terminates\n",
    "        for offset in range(0, num_samples, batch_size):\n",
    "            batch_samples = lines[offset:offset+batch_size]\n",
    "            \n",
    "            images = []\n",
    "            measurements = []\n",
    "            correction = 0.2\n",
    "            for line in batch_samples:\n",
    "                source_path_center = line[0].split('/')[-1]\n",
    "                source_path_left = line[1].split('/')[-1]\n",
    "                source_path_right = line[2].split('/')[-1]\n",
    "\n",
    "                path_center = 'data/IMG/' + source_path_center\n",
    "                path_left = 'data/IMG/' + source_path_left\n",
    "                path_right = 'data/IMG/' + source_path_right\n",
    "\n",
    "                image_center = Image.open(path_center)\n",
    "                image_left = Image.open(path_left)\n",
    "                image_right = Image.open(path_right)\n",
    "\n",
    "                images.append(np.asarray(image_center))\n",
    "                images.append(np.asarray(image_left))\n",
    "                images.append(np.asarray(image_right))\n",
    "\n",
    "                image_center.close()\n",
    "                image_left.close()\n",
    "                image_right.close()\n",
    "\n",
    "                measurement = float(line[3])\n",
    "                measurements.append(measurement)\n",
    "                measurements.append(measurement+correction)\n",
    "                measurements.append(measurement-correction)\n",
    "                \n",
    "            augmented_images, augmented_measurements = [], []\n",
    "            for image, measurement in zip(images, measurements):\n",
    "                augmented_images.append(image)\n",
    "                augmented_measurements.append(measurement)\n",
    "                augmented_images.append(np.fliplr(image))\n",
    "                augmented_measurements.append(measurement*-1.0)\n",
    "            \n",
    "                      \n",
    "            # trim image to only see section with road\n",
    "            X_train = np.array(augmented_images)\n",
    "            y_train = np.array(augmented_measurements)\n",
    "            \n",
    "            yield sklearn.utils.shuffle(X_train, y_train)\n",
    "            \n",
    "            \n",
    "# compile and train the model using the generator function\n",
    "train_generator = generator(train_samples, batch_size=32)\n",
    "\n",
    "validation_generator = generator(validation_samples, batch_size=32)\n",
    "\n",
    "\n",
    "# Nvidia Architecture\n",
    "model = Sequential()\n",
    "model.add(Lambda(lambda x: x / 255.0 - 0.5, input_shape=(160,320,3)))\n",
    "model.add(Cropping2D(cropping=((70,25), (0,0))))\n",
    "\n",
    "model.add(Convolution2D(24,5,5, activation='relu'))\n",
    "model.add(MaxPooling2D())\n",
    "model.add(Dropout(0.2))\n",
    "model.add(Convolution2D(36,5,5, activation='relu'))\n",
    "model.add(MaxPooling2D())\n",
    "model.add(Dropout(0.2))\n",
    "model.add(Convolution2D(48,5,5, activation='relu'))\n",
    "model.add(Dropout(0.2))\n",
    "model.add(Convolution2D(64,3,3, activation='relu'))\n",
    "model.add(Dropout(0.2))\n",
    "model.add(Convolution2D(64,3,3, activation='relu'))\n",
    "model.add(MaxPooling2D())\n",
    "model.add(Dropout(0.2))\n",
    "\n",
    "model.add(Flatten())\n",
    "model.add(Dense(100))\n",
    "model.add(Dropout(0.2))\n",
    "model.add(Dense(50))\n",
    "model.add(Dropout(0.2))\n",
    "model.add(Dense(10))\n",
    "model.add(Dense(1))\n",
    "\n",
    "model.compile(loss='mse', optimizer='adam')\n",
    "\n",
    "history_object = model.fit_generator(train_generator, \n",
    "                                     verbose=1,\n",
    "                                     samples_per_epoch= len(6*train_samples),\n",
    "                                     validation_data=validation_generator,\n",
    "                                     nb_val_samples=len(6*validation_samples), \n",
    "                                     nb_epoch=10)\n",
    "\n",
    "model.save('nvidia_more_data_max_drop.h5')\n",
    "\n",
    "import matplotlib.pyplot as plt\n",
    "\n",
    "### print the keys contained in the history object\n",
    "print(history_object.history.keys())\n",
    "\n",
    "### plot the training and validation loss for each epoch\n",
    "plt.plot(history_object.history['loss'])\n",
    "plt.plot(history_object.history['val_loss'])\n",
    "plt.title('model mean squared error loss')\n",
    "plt.ylabel('mean squared error loss')\n",
    "plt.xlabel('epoch')\n",
    "plt.legend(['training set', 'validation set'], loc='upper right')\n",
    "plt.show()\n",
    "\n",
    "\n"
   ]
  },
  {
   "cell_type": "code",
   "execution_count": null,
   "metadata": {
    "collapsed": true
   },
   "outputs": [],
   "source": [
    "correction = 0.2"
   ]
  },
  {
   "cell_type": "code",
   "execution_count": null,
   "metadata": {
    "collapsed": true
   },
   "outputs": [],
   "source": [
    "images = []\n",
    "measurements = []\n",
    "for line in lines:\n",
    "    source_path_center = line[0].split('/')[-1]\n",
    "    source_path_left = line[1].split('/')[-1]\n",
    "    source_path_right = line[2].split('/')[-1]\n",
    "    \n",
    "    path_center = 'data/IMG/' + source_path_center\n",
    "    path_left = 'data/IMG/' + source_path_left\n",
    "    path_right = 'data/IMG/' + source_path_right\n",
    "    \n",
    "    image_center = Image.open(path_center)\n",
    "    image_left = Image.open(path_left)\n",
    "    image_right = Image.open(path_right)\n",
    "    \n",
    "    images.append(np.asarray(image_center))\n",
    "    images.append(np.asarray(image_left))\n",
    "    images.append(np.asarray(image_right))\n",
    "    \n",
    "    image_center.close()\n",
    "    image_left.close()\n",
    "    image_right.close()\n",
    "    \n",
    "    measurement = float(line[3])\n",
    "    measurements.append(measurement)\n",
    "    measurements.append(measurement+correction)\n",
    "    measurements.append(measurement-correction)"
   ]
  },
  {
   "cell_type": "code",
   "execution_count": null,
   "metadata": {
    "collapsed": true
   },
   "outputs": [],
   "source": [
    "len(images)"
   ]
  },
  {
   "cell_type": "code",
   "execution_count": null,
   "metadata": {
    "collapsed": true
   },
   "outputs": [],
   "source": [
    "len(measurements)"
   ]
  },
  {
   "cell_type": "code",
   "execution_count": null,
   "metadata": {
    "collapsed": true
   },
   "outputs": [],
   "source": [
    "images[0].shape"
   ]
  },
  {
   "cell_type": "code",
   "execution_count": null,
   "metadata": {
    "collapsed": true
   },
   "outputs": [],
   "source": [
    "augmented_images, augmented_measurements = [], []\n",
    "for image, measurement in zip(images, measurements):\n",
    "\taugmented_images.append(image)\n",
    "\taugmented_measurements.append(measurement)\n",
    "\taugmented_images.append(np.fliplr(image))\n",
    "\taugmented_measurements.append(measurement*-1.0)"
   ]
  },
  {
   "cell_type": "code",
   "execution_count": null,
   "metadata": {
    "collapsed": true
   },
   "outputs": [],
   "source": [
    "#import matplotlib.pyplot as plt\n",
    "#% matplotlib inline\n",
    "#plt.imshow(augmented_images[1])"
   ]
  },
  {
   "cell_type": "code",
   "execution_count": null,
   "metadata": {
    "collapsed": true
   },
   "outputs": [],
   "source": [
    "len(augmented_images)"
   ]
  },
  {
   "cell_type": "code",
   "execution_count": null,
   "metadata": {
    "collapsed": true
   },
   "outputs": [],
   "source": [
    "X_train = np.array(augmented_images[0:1000])\n",
    "y_train = np.array(augmented_measurements[0:1000])"
   ]
  },
  {
   "cell_type": "code",
   "execution_count": null,
   "metadata": {
    "collapsed": true
   },
   "outputs": [],
   "source": [
    "# LeNet Architecture\n",
    "model = Sequential()\n",
    "model.add(Lambda(lambda x: x / 255.0 - 0.5, input_shape=(160,320,3)))\n",
    "model.add(Cropping2D(cropping=((70,25), (0,0))))\n",
    "model.add(Convolution2D(6,5,5,activation='relu'))\n",
    "model.add(MaxPooling2D())\n",
    "model.add(Convolution2D(6,5,5,activation='relu'))\n",
    "model.add(MaxPooling2D())\n",
    "model.add(Flatten())\n",
    "model.add(Dense(120))\n",
    "model.add(Dense(84))\n",
    "model.add(Dense(1))\n",
    "\n",
    "model.compile(loss='mse', optimizer='adam')"
   ]
  },
  {
   "cell_type": "code",
   "execution_count": null,
   "metadata": {
    "collapsed": true
   },
   "outputs": [],
   "source": [
    "# Nvidia Architecture\n",
    "model = Sequential()\n",
    "model.add(Lambda(lambda x: x / 255.0 - 0.5, input_shape=(160,320,3)))\n",
    "model.add(Cropping2D(cropping=((70,25), (0,0))))\n",
    "\n",
    "model.add(Convolution2D(24,5,5, subsample=(2,2), activation='relu'))\n",
    "model.add(Convolution2D(36,5,5, subsample=(2,2), activation='relu'))\n",
    "model.add(Convolution2D(48,5,5, subsample=(2,2), activation='relu'))\n",
    "model.add(Convolution2D(64,3,3, activation='relu'))\n",
    "model.add(Convolution2D(64,3,3, activation='relu'))\n",
    "\n",
    "model.add(Flatten())\n",
    "model.add(Dense(100))\n",
    "model.add(Dense(50))\n",
    "model.add(Dense(10))\n",
    "model.add(Dense(1))\n",
    "\n",
    "model.compile(loss='mse', optimizer='adam')"
   ]
  },
  {
   "cell_type": "code",
   "execution_count": null,
   "metadata": {
    "collapsed": true
   },
   "outputs": [],
   "source": [
    "history_object = model.fit(X_train, y_train, verbose=1, validation_split=0.2, shuffle=True, nb_epoch=7)\n",
    "\n",
    "model.save('nvidia_partial.h5')"
   ]
  },
  {
   "cell_type": "code",
   "execution_count": null,
   "metadata": {
    "collapsed": true
   },
   "outputs": [],
   "source": [
    "import matplotlib.pyplot as plt\n",
    "\n",
    "### print the keys contained in the history object\n",
    "print(history_object.history.keys())\n",
    "\n",
    "### plot the training and validation loss for each epoch\n",
    "plt.plot(history_object.history['loss'])\n",
    "plt.plot(history_object.history['val_loss'])\n",
    "plt.title('model mean squared error loss')\n",
    "plt.ylabel('mean squared error loss')\n",
    "plt.xlabel('epoch')\n",
    "plt.legend(['training set', 'validation set'], loc='upper right')\n",
    "plt.show()"
   ]
  }
 ],
 "metadata": {
  "kernelspec": {
   "display_name": "Python 3",
   "language": "python",
   "name": "python3"
  },
  "language_info": {
   "codemirror_mode": {
    "name": "ipython",
    "version": 3
   },
   "file_extension": ".py",
   "mimetype": "text/x-python",
   "name": "python",
   "nbconvert_exporter": "python",
   "pygments_lexer": "ipython3",
   "version": "3.5.2"
  },
  "widgets": {
   "state": {},
   "version": "1.1.2"
  }
 },
 "nbformat": 4,
 "nbformat_minor": 2
}
